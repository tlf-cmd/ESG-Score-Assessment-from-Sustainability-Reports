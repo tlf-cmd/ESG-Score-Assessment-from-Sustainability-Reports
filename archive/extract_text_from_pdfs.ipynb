{
 "cells": [
  {
   "cell_type": "code",
   "execution_count": 2,
   "metadata": {},
   "outputs": [
    {
     "name": "stdout",
     "output_type": "stream",
     "text": [
      "Looking in indexes: https://pypi.tuna.tsinghua.edu.cn/simple\n"
     ]
    },
    {
     "name": "stderr",
     "output_type": "stream",
     "text": [
      "WARNING: Ignoring invalid distribution -tatsmodels (d:\\anaconda3\\lib\\site-packages)\n",
      "WARNING: Ignoring invalid distribution -tatsmodels (d:\\anaconda3\\lib\\site-packages)\n",
      "ERROR: Exception:\n",
      "Traceback (most recent call last):\n",
      "  File \"D:\\anaconda3\\lib\\site-packages\\pip\\_internal\\cli\\base_command.py\", line 173, in _main\n",
      "    status = self.run(options, args)\n",
      "  File \"D:\\anaconda3\\lib\\site-packages\\pip\\_internal\\cli\\req_command.py\", line 203, in wrapper\n",
      "    return func(self, options, args)\n",
      "  File \"D:\\anaconda3\\lib\\site-packages\\pip\\_internal\\commands\\install.py\", line 315, in run\n",
      "    requirement_set = resolver.resolve(\n",
      "  File \"D:\\anaconda3\\lib\\site-packages\\pip\\_internal\\resolution\\resolvelib\\resolver.py\", line 94, in resolve\n",
      "    result = self._result = resolver.resolve(\n",
      "  File \"D:\\anaconda3\\lib\\site-packages\\pip\\_vendor\\resolvelib\\resolvers.py\", line 472, in resolve\n",
      "    state = resolution.resolve(requirements, max_rounds=max_rounds)\n",
      "  File \"D:\\anaconda3\\lib\\site-packages\\pip\\_vendor\\resolvelib\\resolvers.py\", line 341, in resolve\n",
      "    self._add_to_criteria(self.state.criteria, r, parent=None)\n",
      "  File \"D:\\anaconda3\\lib\\site-packages\\pip\\_vendor\\resolvelib\\resolvers.py\", line 172, in _add_to_criteria\n",
      "    if not criterion.candidates:\n",
      "  File \"D:\\anaconda3\\lib\\site-packages\\pip\\_vendor\\resolvelib\\structs.py\", line 151, in __bool__\n",
      "    return bool(self._sequence)\n",
      "  File \"D:\\anaconda3\\lib\\site-packages\\pip\\_internal\\resolution\\resolvelib\\found_candidates.py\", line 140, in __bool__\n",
      "    return any(self)\n",
      "  File \"D:\\anaconda3\\lib\\site-packages\\pip\\_internal\\resolution\\resolvelib\\found_candidates.py\", line 128, in <genexpr>\n",
      "    return (c for c in iterator if id(c) not in self._incompatible_ids)\n",
      "  File \"D:\\anaconda3\\lib\\site-packages\\pip\\_internal\\resolution\\resolvelib\\found_candidates.py\", line 29, in _iter_built\n",
      "    for version, func in infos:\n",
      "  File \"D:\\anaconda3\\lib\\site-packages\\pip\\_internal\\resolution\\resolvelib\\factory.py\", line 272, in iter_index_candidate_infos\n",
      "    result = self._finder.find_best_candidate(\n",
      "  File \"D:\\anaconda3\\lib\\site-packages\\pip\\_internal\\index\\package_finder.py\", line 851, in find_best_candidate\n",
      "    candidates = self.find_all_candidates(project_name)\n",
      "  File \"D:\\anaconda3\\lib\\site-packages\\pip\\_internal\\index\\package_finder.py\", line 798, in find_all_candidates\n",
      "    page_candidates = list(page_candidates_it)\n",
      "  File \"D:\\anaconda3\\lib\\site-packages\\pip\\_internal\\index\\sources.py\", line 134, in page_candidates\n",
      "    yield from self._candidates_from_page(self._link)\n",
      "  File \"D:\\anaconda3\\lib\\site-packages\\pip\\_internal\\index\\package_finder.py\", line 758, in process_project_url\n",
      "    html_page = self._link_collector.fetch_page(project_url)\n",
      "  File \"D:\\anaconda3\\lib\\site-packages\\pip\\_internal\\index\\collector.py\", line 490, in fetch_page\n",
      "    return _get_html_page(location, session=self.session)\n",
      "  File \"D:\\anaconda3\\lib\\site-packages\\pip\\_internal\\index\\collector.py\", line 400, in _get_html_page\n",
      "    resp = _get_html_response(url, session=session)\n",
      "  File \"D:\\anaconda3\\lib\\site-packages\\pip\\_internal\\index\\collector.py\", line 115, in _get_html_response\n",
      "    resp = session.get(\n",
      "  File \"D:\\anaconda3\\lib\\site-packages\\pip\\_vendor\\requests\\sessions.py\", line 555, in get\n",
      "    return self.request('GET', url, **kwargs)\n",
      "  File \"D:\\anaconda3\\lib\\site-packages\\pip\\_internal\\network\\session.py\", line 454, in request\n",
      "    return super().request(method, url, *args, **kwargs)\n",
      "  File \"D:\\anaconda3\\lib\\site-packages\\pip\\_vendor\\requests\\sessions.py\", line 542, in request\n",
      "    resp = self.send(prep, **send_kwargs)\n",
      "  File \"D:\\anaconda3\\lib\\site-packages\\pip\\_vendor\\requests\\sessions.py\", line 655, in send\n",
      "    r = adapter.send(request, **kwargs)\n",
      "  File \"D:\\anaconda3\\lib\\site-packages\\pip\\_vendor\\cachecontrol\\adapter.py\", line 53, in send\n",
      "    resp = super(CacheControlAdapter, self).send(request, **kw)\n",
      "  File \"D:\\anaconda3\\lib\\site-packages\\pip\\_vendor\\requests\\adapters.py\", line 439, in send\n",
      "    resp = conn.urlopen(\n",
      "  File \"D:\\anaconda3\\lib\\site-packages\\pip\\_vendor\\urllib3\\connectionpool.py\", line 696, in urlopen\n",
      "    self._prepare_proxy(conn)\n",
      "  File \"D:\\anaconda3\\lib\\site-packages\\pip\\_vendor\\urllib3\\connectionpool.py\", line 964, in _prepare_proxy\n",
      "    conn.connect()\n",
      "  File \"D:\\anaconda3\\lib\\site-packages\\pip\\_vendor\\urllib3\\connection.py\", line 359, in connect\n",
      "    conn = self._connect_tls_proxy(hostname, conn)\n",
      "  File \"D:\\anaconda3\\lib\\site-packages\\pip\\_vendor\\urllib3\\connection.py\", line 500, in _connect_tls_proxy\n",
      "    return ssl_wrap_socket(\n",
      "  File \"D:\\anaconda3\\lib\\site-packages\\pip\\_vendor\\urllib3\\util\\ssl_.py\", line 453, in ssl_wrap_socket\n",
      "    ssl_sock = _ssl_wrap_socket_impl(sock, context, tls_in_tls)\n",
      "  File \"D:\\anaconda3\\lib\\site-packages\\pip\\_vendor\\urllib3\\util\\ssl_.py\", line 495, in _ssl_wrap_socket_impl\n",
      "    return ssl_context.wrap_socket(sock)\n",
      "  File \"D:\\anaconda3\\lib\\ssl.py\", line 500, in wrap_socket\n",
      "    return self.sslsocket_class._create(\n",
      "  File \"D:\\anaconda3\\lib\\ssl.py\", line 997, in _create\n",
      "    raise ValueError(\"check_hostname requires server_hostname\")\n",
      "ValueError: check_hostname requires server_hostname\n"
     ]
    }
   ],
   "source": [
    "!pip install pdfminer.six\n",
    "from pdfminer.high_level import extract_text\n"
   ]
  },
  {
   "cell_type": "code",
   "execution_count": 21,
   "metadata": {},
   "outputs": [
    {
     "name": "stdout",
     "output_type": "stream",
     "text": [
      "Looking in indexes: https://pypi.tuna.tsinghua.edu.cn/simple\n",
      "Requirement already satisfied: PyPDF2 in c:\\users\\92945\\appdata\\local\\programs\\python\\python310\\lib\\site-packages (3.0.1)\n",
      "Note: you may need to restart the kernel to use updated packages.\n"
     ]
    }
   ],
   "source": [
    "pip install PyPDF2"
   ]
  },
  {
   "cell_type": "code",
   "execution_count": 3,
   "metadata": {},
   "outputs": [],
   "source": [
    "import csv\n",
    "import os"
   ]
  },
  {
   "cell_type": "code",
   "execution_count": 30,
   "metadata": {},
   "outputs": [],
   "source": [
    "import os\n",
    "import csv\n",
    "import PyPDF2\n",
    "\n",
    "def pdf_to_text(pdf_path):\n",
    "    \"\"\"Convert PDF file to plain text using PyPDF2.\"\"\"\n",
    "    try:\n",
    "        with open(pdf_path, 'rb') as file:\n",
    "            pdf = PyPDF2.PdfReader(file)\n",
    "            text = ''.join(page.extract_text() for page in pdf.pages)\n",
    "            return text\n",
    "    except Exception as e:\n",
    "        print(f\"Error processing {pdf_path}: {e}\")\n",
    "        return None\n",
    "# Extract text from the PDF\n",
    "text = pdf_to_text(pdf_directory)\n",
    "\n",
    "# Write the extracted text to a CSV file\n",
    "with open(output_csv, 'w', newline='', encoding='utf-8') as csvfile:\n",
    "    writer = csv.writer(csvfile)\n",
    "    writer.writerow(['Extracted Text'])\n",
    "    writer.writerow([text])"
   ]
  },
  {
   "cell_type": "code",
   "execution_count": 29,
   "metadata": {},
   "outputs": [],
   "source": [
    "pdf_directory = 'ESG_report.pdf'  # Corrected to a directory path\n",
    "output_csv = 'extracted_text_sustainability_reports.csv'\n"
   ]
  },
  {
   "cell_type": "code",
   "execution_count": null,
   "metadata": {},
   "outputs": [],
   "source": []
  },
  {
   "cell_type": "code",
   "execution_count": null,
   "metadata": {},
   "outputs": [],
   "source": []
  },
  {
   "cell_type": "code",
   "execution_count": null,
   "metadata": {},
   "outputs": [],
   "source": []
  },
  {
   "cell_type": "code",
   "execution_count": null,
   "metadata": {},
   "outputs": [],
   "source": []
  }
 ],
 "metadata": {
  "kernelspec": {
   "display_name": "Python 3",
   "language": "python",
   "name": "python3"
  },
  "language_info": {
   "codemirror_mode": {
    "name": "ipython",
    "version": 3
   },
   "file_extension": ".py",
   "mimetype": "text/x-python",
   "name": "python",
   "nbconvert_exporter": "python",
   "pygments_lexer": "ipython3",
   "version": "3.10.11"
  }
 },
 "nbformat": 4,
 "nbformat_minor": 2
}
